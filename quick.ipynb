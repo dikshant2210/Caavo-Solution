{
 "cells": [
  {
   "cell_type": "code",
   "execution_count": 1,
   "metadata": {},
   "outputs": [],
   "source": [
    "import numpy as np\n",
    "import pandas as pd\n",
    "import glob\n",
    "import os\n",
    "import pickle as pkl"
   ]
  },
  {
   "cell_type": "code",
   "execution_count": 2,
   "metadata": {},
   "outputs": [
    {
     "data": {
      "text/plain": [
       "['input/dataset/train/7',\n",
       " 'input/dataset/train/3',\n",
       " 'input/dataset/train/14',\n",
       " 'input/dataset/train/2',\n",
       " 'input/dataset/train/0',\n",
       " 'input/dataset/train/11',\n",
       " 'input/dataset/train/4',\n",
       " 'input/dataset/train/8',\n",
       " 'input/dataset/train/5',\n",
       " 'input/dataset/train/1',\n",
       " 'input/dataset/train/9',\n",
       " 'input/dataset/train/6',\n",
       " 'input/dataset/train/13',\n",
       " 'input/dataset/train/10',\n",
       " 'input/dataset/train/12']"
      ]
     },
     "execution_count": 2,
     "metadata": {},
     "output_type": "execute_result"
    }
   ],
   "source": [
    "dirs = glob.glob('input/dataset/train/*')\n",
    "dirs"
   ]
  },
  {
   "cell_type": "code",
   "execution_count": 3,
   "metadata": {},
   "outputs": [],
   "source": [
    "images = list()\n",
    "labels = list()\n",
    "for d in dirs:\n",
    "    images += glob.glob(d + '/*')\n",
    "    labels += [int(os.path.basename(d))] * len(glob.glob(d + '/*'))"
   ]
  },
  {
   "cell_type": "code",
   "execution_count": 4,
   "metadata": {},
   "outputs": [
    {
     "data": {
      "text/plain": [
       "(['input/dataset/train/7/n04602956_3862_0.jpg',\n",
       "  'input/dataset/train/7/n04197391_3278_0.jpg',\n",
       "  'input/dataset/train/7/n04197391_10112_0.jpg',\n",
       "  'input/dataset/train/7/n04197391_11085_1.jpg',\n",
       "  'input/dataset/train/7/n04602956_3082_1.jpg',\n",
       "  'input/dataset/train/7/n04602956_2792_0.jpg',\n",
       "  'input/dataset/train/7/n04197391_13180_0.jpg',\n",
       "  'input/dataset/train/7/n03238879_2797_0.jpg',\n",
       "  'input/dataset/train/7/n03238879_13857_0.jpg',\n",
       "  'input/dataset/train/7/n04602956_3101_0.jpg'],\n",
       " [7, 7, 7, 7, 7, 7, 7, 7, 7, 7])"
      ]
     },
     "execution_count": 4,
     "metadata": {},
     "output_type": "execute_result"
    }
   ],
   "source": [
    "images[:10], labels[:10]"
   ]
  },
  {
   "cell_type": "code",
   "execution_count": 5,
   "metadata": {},
   "outputs": [
    {
     "data": {
      "text/html": [
       "<div>\n",
       "<style scoped>\n",
       "    .dataframe tbody tr th:only-of-type {\n",
       "        vertical-align: middle;\n",
       "    }\n",
       "\n",
       "    .dataframe tbody tr th {\n",
       "        vertical-align: top;\n",
       "    }\n",
       "\n",
       "    .dataframe thead th {\n",
       "        text-align: right;\n",
       "    }\n",
       "</style>\n",
       "<table border=\"1\" class=\"dataframe\">\n",
       "  <thead>\n",
       "    <tr style=\"text-align: right;\">\n",
       "      <th></th>\n",
       "      <th>images</th>\n",
       "      <th>labels</th>\n",
       "    </tr>\n",
       "  </thead>\n",
       "  <tbody>\n",
       "    <tr>\n",
       "      <th>39383</th>\n",
       "      <td>input/dataset/train/1/n03980874_7556_0.jpg</td>\n",
       "      <td>1</td>\n",
       "    </tr>\n",
       "    <tr>\n",
       "      <th>30063</th>\n",
       "      <td>input/dataset/train/8/n03013438_14875_0.jpg</td>\n",
       "      <td>8</td>\n",
       "    </tr>\n",
       "    <tr>\n",
       "      <th>41224</th>\n",
       "      <td>input/dataset/train/9/n03226538_1699_0.jpg</td>\n",
       "      <td>9</td>\n",
       "    </tr>\n",
       "    <tr>\n",
       "      <th>22437</th>\n",
       "      <td>input/dataset/train/4/n03237992_29174_0.jpg</td>\n",
       "      <td>4</td>\n",
       "    </tr>\n",
       "    <tr>\n",
       "      <th>33227</th>\n",
       "      <td>input/dataset/train/5/n03978966_13362_0.jpg</td>\n",
       "      <td>5</td>\n",
       "    </tr>\n",
       "  </tbody>\n",
       "</table>\n",
       "</div>"
      ],
      "text/plain": [
       "                                            images  labels\n",
       "39383   input/dataset/train/1/n03980874_7556_0.jpg       1\n",
       "30063  input/dataset/train/8/n03013438_14875_0.jpg       8\n",
       "41224   input/dataset/train/9/n03226538_1699_0.jpg       9\n",
       "22437  input/dataset/train/4/n03237992_29174_0.jpg       4\n",
       "33227  input/dataset/train/5/n03978966_13362_0.jpg       5"
      ]
     },
     "execution_count": 5,
     "metadata": {},
     "output_type": "execute_result"
    }
   ],
   "source": [
    "from sklearn.utils import shuffle\n",
    "df = pd.DataFrame({'images': images, 'labels': labels})\n",
    "df = shuffle(df)\n",
    "df.head()"
   ]
  },
  {
   "cell_type": "code",
   "execution_count": 6,
   "metadata": {},
   "outputs": [
    {
     "data": {
      "text/plain": [
       "(62258, 2)"
      ]
     },
     "execution_count": 6,
     "metadata": {},
     "output_type": "execute_result"
    }
   ],
   "source": [
    "df.shape"
   ]
  },
  {
   "cell_type": "code",
   "execution_count": 7,
   "metadata": {},
   "outputs": [
    {
     "data": {
      "text/plain": [
       "((52258, 2), (10000, 2))"
      ]
     },
     "execution_count": 7,
     "metadata": {},
     "output_type": "execute_result"
    }
   ],
   "source": [
    "train = df.iloc[:52258, :]\n",
    "validation = df.iloc[52258:, :]\n",
    "train.shape, validation.shape"
   ]
  },
  {
   "cell_type": "code",
   "execution_count": 8,
   "metadata": {},
   "outputs": [],
   "source": [
    "batch_size = 128\n",
    "target_vector_size = df['labels'].unique().shape"
   ]
  },
  {
   "cell_type": "code",
   "execution_count": 9,
   "metadata": {},
   "outputs": [],
   "source": [
    "def train_generator():\n",
    "    while True:\n",
    "        for start in range(0, len(train), batch_size):\n",
    "            x_batch = []\n",
    "            y_batch = []\n",
    "            end = min(start + batch_size, len(train))\n",
    "            train_batch = train.iloc[start:end, :]\n",
    "            for img_path, label in zip(train_batch['images'], train_batch['labels']):\n",
    "                name = os.path.basename(img_path).split()[0]\n",
    "                with open('input/dataset/train_features/{}.pkl'.format(name), 'rb') as file:\n",
    "                    data = pkl.load(file)\n",
    "                    x_batch.append(data[0])\n",
    "                    y_batch.append(data[1])\n",
    "            x_batch = np.array(x_batch, np.float32)\n",
    "            y_batch = np.array(y_batch, np.float32)\n",
    "            yield x_batch, y_batch\n",
    "            \n",
    "def valid_generator():\n",
    "    while True:\n",
    "        for start in range(0, len(validation), batch_size):\n",
    "            x_batch = []\n",
    "            y_batch = []\n",
    "            end = min(start + batch_size, len(validation))\n",
    "            validation_batch = validation.iloc[start:end, :]\n",
    "            for img_path, label in zip(validation_batch['images'], validation_batch['labels']):\n",
    "                name = os.path.basename(img_path).split()[0]\n",
    "                with open('input/dataset/train_features/{}.pkl'.format(name), 'rb') as file:\n",
    "                    data = pkl.load(file)\n",
    "                    x_batch.append(data[0])\n",
    "                    y_batch.append(data[1])\n",
    "            x_batch = np.array(x_batch, np.float32)\n",
    "            y_batch = np.array(y_batch, np.float32)\n",
    "            yield x_batch, y_batch"
   ]
  },
  {
   "cell_type": "code",
   "execution_count": 10,
   "metadata": {},
   "outputs": [
    {
     "name": "stdout",
     "output_type": "stream",
     "text": [
      "(128, 7, 7, 512) (128, 15)\n"
     ]
    }
   ],
   "source": [
    "for x, y in train_generator():\n",
    "    print(x.shape, y.shape)\n",
    "    break"
   ]
  },
  {
   "cell_type": "code",
   "execution_count": 22,
   "metadata": {},
   "outputs": [],
   "source": [
    "import tensorflow as tf\n",
    "\n",
    "def f2_score(y_true, y_pred):\n",
    "    y_true = tf.cast(y_true, \"int32\")\n",
    "    y_pred = tf.cast(tf.round(y_pred), \"int32\") # implicit 0.5 threshold via tf.round\n",
    "    y_correct = y_true * y_pred\n",
    "    sum_true = tf.reduce_sum(y_true, axis=1)\n",
    "    sum_pred = tf.reduce_sum(y_pred, axis=1)\n",
    "    sum_correct = tf.reduce_sum(y_correct, axis=1)\n",
    "    precision = sum_correct / sum_pred\n",
    "    recall = sum_correct / sum_true\n",
    "    f_score = 2 * precision * recall / (precision + recall)\n",
    "    f_score = tf.where(tf.is_nan(f_score), tf.zeros_like(f_score), f_score)\n",
    "    return tf.reduce_mean(f_score)"
   ]
  },
  {
   "cell_type": "code",
   "execution_count": 27,
   "metadata": {},
   "outputs": [],
   "source": [
    "from keras.layers import Dense, GlobalAveragePooling2D, BatchNormalization, Input, Dropout, Flatten\n",
    "from keras.models import Model\n",
    "from keras.callbacks import EarlyStopping, ReduceLROnPlateau, ModelCheckpoint\n",
    "from keras.optimizers import SGD, RMSprop, Adam\n",
    "\n",
    "input_features = Input(shape=(7, 7 , 512))\n",
    "features = GlobalAveragePooling2D()(input_features)\n",
    "hidden = Dense(4096, activation='sigmoid')(features)\n",
    "hidden = Dropout(0.2)(hidden)\n",
    "hidden = Dense(2048, activation='sigmoid')(hidden)\n",
    "hidden = Dropout(0.5)(hidden)\n",
    "# hidden = Dense(256, activation='relu')(hidden)\n",
    "# hidden = Dropout(0.6)(hidden)\n",
    "predictions = Dense(15, activation='softmax')(hidden)\n",
    "    \n",
    "model = Model(inputs=input_features, outputs=predictions)\n",
    "\n",
    "sgd = SGD(lr=0.01, momentum=0.8)\n",
    "\n",
    "model.compile(optimizer=sgd, loss='categorical_crossentropy', metrics=[f2_score])\n",
    "\n",
    "callbacks = [EarlyStopping(monitor='val_f2_score',\n",
    "                           patience=8,\n",
    "                           verbose=1,\n",
    "                           min_delta=1e-4,\n",
    "                           mode='max'),\n",
    "             ReduceLROnPlateau(monitor='val_loss',\n",
    "                               factor=0.1,\n",
    "                               patience=3,\n",
    "                               verbose=1,\n",
    "                               epsilon=1e-4,\n",
    "                               mode='min'),\n",
    "             ModelCheckpoint(monitor='val_f2_score',\n",
    "                             filepath='best_weights.hdf5',\n",
    "                             save_best_only=True,\n",
    "                             save_weights_only=False,\n",
    "                             mode='max')]"
   ]
  },
  {
   "cell_type": "code",
   "execution_count": 28,
   "metadata": {
    "scrolled": false
   },
   "outputs": [
    {
     "name": "stdout",
     "output_type": "stream",
     "text": [
      "Epoch 1/50\n",
      "409/409 [==============================] - 6s 15ms/step - loss: 1.8560 - f2_score: 0.1603 - val_loss: 1.5225 - val_f2_score: 0.2550\n",
      "Epoch 2/50\n",
      "409/409 [==============================] - 6s 14ms/step - loss: 1.5458 - f2_score: 0.2762 - val_loss: 1.4449 - val_f2_score: 0.3139\n",
      "Epoch 3/50\n",
      "409/409 [==============================] - 6s 14ms/step - loss: 1.4737 - f2_score: 0.3114 - val_loss: 1.4102 - val_f2_score: 0.3409\n",
      "Epoch 4/50\n",
      "409/409 [==============================] - 6s 16ms/step - loss: 1.4317 - f2_score: 0.3350 - val_loss: 1.3841 - val_f2_score: 0.3572\n",
      "Epoch 5/50\n",
      "409/409 [==============================] - 6s 15ms/step - loss: 1.3997 - f2_score: 0.3509 - val_loss: 1.3659 - val_f2_score: 0.3671\n",
      "Epoch 6/50\n",
      "409/409 [==============================] - 6s 15ms/step - loss: 1.3775 - f2_score: 0.3624 - val_loss: 1.3511 - val_f2_score: 0.3798\n",
      "Epoch 7/50\n",
      "409/409 [==============================] - 6s 14ms/step - loss: 1.3556 - f2_score: 0.3743 - val_loss: 1.3398 - val_f2_score: 0.3859\n",
      "Epoch 8/50\n",
      "409/409 [==============================] - 6s 15ms/step - loss: 1.3344 - f2_score: 0.3833 - val_loss: 1.3284 - val_f2_score: 0.3944\n",
      "Epoch 9/50\n",
      "409/409 [==============================] - 6s 14ms/step - loss: 1.3192 - f2_score: 0.3912 - val_loss: 1.3182 - val_f2_score: 0.4001\n",
      "Epoch 10/50\n",
      "409/409 [==============================] - 6s 15ms/step - loss: 1.3047 - f2_score: 0.3982 - val_loss: 1.3111 - val_f2_score: 0.4043\n",
      "Epoch 11/50\n",
      "409/409 [==============================] - 6s 15ms/step - loss: 1.2921 - f2_score: 0.4038 - val_loss: 1.3018 - val_f2_score: 0.4114\n",
      "Epoch 12/50\n",
      "409/409 [==============================] - 6s 14ms/step - loss: 1.2804 - f2_score: 0.4115 - val_loss: 1.2962 - val_f2_score: 0.4155\n",
      "Epoch 13/50\n",
      "409/409 [==============================] - 6s 15ms/step - loss: 1.2649 - f2_score: 0.4181 - val_loss: 1.2871 - val_f2_score: 0.4199\n",
      "Epoch 14/50\n",
      "409/409 [==============================] - 6s 14ms/step - loss: 1.2530 - f2_score: 0.4244 - val_loss: 1.2844 - val_f2_score: 0.4233\n",
      "Epoch 15/50\n",
      "409/409 [==============================] - 6s 15ms/step - loss: 1.2433 - f2_score: 0.4290 - val_loss: 1.2790 - val_f2_score: 0.4297\n",
      "Epoch 16/50\n",
      "409/409 [==============================] - 7s 16ms/step - loss: 1.2321 - f2_score: 0.4356 - val_loss: 1.2728 - val_f2_score: 0.4352\n",
      "Epoch 17/50\n",
      "409/409 [==============================] - 7s 16ms/step - loss: 1.2216 - f2_score: 0.4395 - val_loss: 1.2662 - val_f2_score: 0.4390\n",
      "Epoch 18/50\n",
      "409/409 [==============================] - 6s 15ms/step - loss: 1.2081 - f2_score: 0.4490 - val_loss: 1.2611 - val_f2_score: 0.4424\n",
      "Epoch 19/50\n",
      "409/409 [==============================] - 6s 15ms/step - loss: 1.1984 - f2_score: 0.4515 - val_loss: 1.2564 - val_f2_score: 0.4456\n",
      "Epoch 20/50\n",
      "409/409 [==============================] - 6s 15ms/step - loss: 1.1884 - f2_score: 0.4571 - val_loss: 1.2541 - val_f2_score: 0.4492\n",
      "Epoch 21/50\n",
      "409/409 [==============================] - 6s 15ms/step - loss: 1.1818 - f2_score: 0.4596 - val_loss: 1.2499 - val_f2_score: 0.4519\n",
      "Epoch 22/50\n",
      "409/409 [==============================] - 6s 16ms/step - loss: 1.1688 - f2_score: 0.4651 - val_loss: 1.2461 - val_f2_score: 0.4550\n",
      "Epoch 23/50\n",
      "409/409 [==============================] - 6s 15ms/step - loss: 1.1621 - f2_score: 0.4709 - val_loss: 1.2397 - val_f2_score: 0.4553\n",
      "Epoch 24/50\n",
      "409/409 [==============================] - 6s 15ms/step - loss: 1.1511 - f2_score: 0.4762 - val_loss: 1.2371 - val_f2_score: 0.4606\n",
      "Epoch 25/50\n",
      "409/409 [==============================] - 6s 16ms/step - loss: 1.1443 - f2_score: 0.4775 - val_loss: 1.2361 - val_f2_score: 0.4638\n",
      "Epoch 26/50\n",
      "409/409 [==============================] - 6s 16ms/step - loss: 1.1345 - f2_score: 0.4819 - val_loss: 1.2305 - val_f2_score: 0.4667\n",
      "Epoch 27/50\n",
      "409/409 [==============================] - 6s 15ms/step - loss: 1.1235 - f2_score: 0.4893 - val_loss: 1.2283 - val_f2_score: 0.4704\n",
      "Epoch 28/50\n",
      "409/409 [==============================] - 6s 15ms/step - loss: 1.1132 - f2_score: 0.4923 - val_loss: 1.2245 - val_f2_score: 0.4711\n",
      "Epoch 29/50\n",
      "409/409 [==============================] - 6s 15ms/step - loss: 1.1045 - f2_score: 0.4981 - val_loss: 1.2229 - val_f2_score: 0.4775\n",
      "Epoch 30/50\n",
      "409/409 [==============================] - 6s 14ms/step - loss: 1.0971 - f2_score: 0.5004 - val_loss: 1.2216 - val_f2_score: 0.4770\n",
      "Epoch 31/50\n",
      "409/409 [==============================] - 6s 15ms/step - loss: 1.0862 - f2_score: 0.5057 - val_loss: 1.2154 - val_f2_score: 0.4814\n",
      "Epoch 32/50\n",
      "409/409 [==============================] - 6s 15ms/step - loss: 1.0808 - f2_score: 0.5103 - val_loss: 1.2136 - val_f2_score: 0.4821\n",
      "Epoch 33/50\n",
      "409/409 [==============================] - 6s 15ms/step - loss: 1.0673 - f2_score: 0.5142 - val_loss: 1.2123 - val_f2_score: 0.4842\n",
      "Epoch 34/50\n",
      "409/409 [==============================] - 7s 17ms/step - loss: 1.0592 - f2_score: 0.5183 - val_loss: 1.2111 - val_f2_score: 0.4871\n",
      "Epoch 35/50\n",
      "409/409 [==============================] - 6s 15ms/step - loss: 1.0504 - f2_score: 0.5232 - val_loss: 1.2083 - val_f2_score: 0.4875\n",
      "Epoch 36/50\n",
      "409/409 [==============================] - 6s 16ms/step - loss: 1.0390 - f2_score: 0.5284 - val_loss: 1.2078 - val_f2_score: 0.4940\n",
      "Epoch 37/50\n",
      "409/409 [==============================] - 6s 15ms/step - loss: 1.0292 - f2_score: 0.5338 - val_loss: 1.2038 - val_f2_score: 0.4916\n",
      "Epoch 38/50\n",
      "409/409 [==============================] - 6s 15ms/step - loss: 1.0185 - f2_score: 0.5381 - val_loss: 1.2023 - val_f2_score: 0.4932\n",
      "Epoch 39/50\n",
      "409/409 [==============================] - 6s 15ms/step - loss: 1.0098 - f2_score: 0.5424 - val_loss: 1.2043 - val_f2_score: 0.4976\n",
      "Epoch 40/50\n",
      "409/409 [==============================] - 6s 15ms/step - loss: 1.0025 - f2_score: 0.5468 - val_loss: 1.2032 - val_f2_score: 0.5014\n",
      "Epoch 41/50\n",
      "409/409 [==============================] - 6s 15ms/step - loss: 0.9899 - f2_score: 0.5522 - val_loss: 1.2006 - val_f2_score: 0.5013\n",
      "Epoch 42/50\n",
      "409/409 [==============================] - 6s 15ms/step - loss: 0.9791 - f2_score: 0.5572 - val_loss: 1.1994 - val_f2_score: 0.5050\n",
      "Epoch 43/50\n",
      "409/409 [==============================] - 6s 15ms/step - loss: 0.9711 - f2_score: 0.5637 - val_loss: 1.1964 - val_f2_score: 0.5090\n",
      "Epoch 44/50\n",
      "409/409 [==============================] - 6s 15ms/step - loss: 0.9605 - f2_score: 0.5667 - val_loss: 1.1975 - val_f2_score: 0.5095\n",
      "Epoch 45/50\n",
      "409/409 [==============================] - 7s 17ms/step - loss: 0.9500 - f2_score: 0.5718 - val_loss: 1.2002 - val_f2_score: 0.5142\n",
      "Epoch 46/50\n",
      "409/409 [==============================] - 6s 16ms/step - loss: 0.9389 - f2_score: 0.5780 - val_loss: 1.1994 - val_f2_score: 0.5152\n",
      "Epoch 47/50\n",
      "404/409 [============================>.] - ETA: 0s - loss: 0.9278 - f2_score: 0.5821\n",
      "Epoch 00047: reducing learning rate to 0.0009999999776482583.\n",
      "409/409 [==============================] - 6s 15ms/step - loss: 0.9276 - f2_score: 0.5822 - val_loss: 1.1990 - val_f2_score: 0.5166\n",
      "Epoch 48/50\n",
      "409/409 [==============================] - 6s 15ms/step - loss: 0.8946 - f2_score: 0.5977 - val_loss: 1.1834 - val_f2_score: 0.5186\n",
      "Epoch 49/50\n",
      "409/409 [==============================] - 6s 16ms/step - loss: 0.8930 - f2_score: 0.5977 - val_loss: 1.1833 - val_f2_score: 0.5195\n",
      "Epoch 50/50\n",
      "409/409 [==============================] - 6s 15ms/step - loss: 0.8876 - f2_score: 0.6009 - val_loss: 1.1834 - val_f2_score: 0.5211\n"
     ]
    },
    {
     "data": {
      "text/plain": [
       "<keras.callbacks.History at 0x7fbd3d21f748>"
      ]
     },
     "execution_count": 28,
     "metadata": {},
     "output_type": "execute_result"
    }
   ],
   "source": [
    "model.fit_generator(generator=train_generator(),\n",
    "                    steps_per_epoch=np.ceil(float(len(train)) / float(batch_size)),\n",
    "                    epochs=50,\n",
    "                    verbose=1,\n",
    "                    callbacks=callbacks,\n",
    "                    validation_data=valid_generator(),\n",
    "                    validation_steps=np.ceil(float(len(validation)) / float(batch_size)))"
   ]
  },
  {
   "cell_type": "code",
   "execution_count": 29,
   "metadata": {},
   "outputs": [
    {
     "name": "stdout",
     "output_type": "stream",
     "text": [
      "Epoch 1/20\n",
      "409/409 [==============================] - 6s 15ms/step - loss: 0.8878 - f2_score: 0.5999 - val_loss: 1.1837 - val_f2_score: 0.5212\n",
      "Epoch 2/20\n",
      "409/409 [==============================] - 6s 14ms/step - loss: 0.8841 - f2_score: 0.6020 - val_loss: 1.1831 - val_f2_score: 0.5219\n",
      "Epoch 3/20\n",
      "409/409 [==============================] - 6s 14ms/step - loss: 0.8813 - f2_score: 0.6033 - val_loss: 1.1843 - val_f2_score: 0.5224\n",
      "Epoch 4/20\n",
      "409/409 [==============================] - 6s 14ms/step - loss: 0.8781 - f2_score: 0.6043 - val_loss: 1.1837 - val_f2_score: 0.5228\n",
      "Epoch 5/20\n",
      "409/409 [==============================] - 6s 15ms/step - loss: 0.8767 - f2_score: 0.6066 - val_loss: 1.1849 - val_f2_score: 0.5236\n",
      "Epoch 6/20\n",
      "405/409 [============================>.] - ETA: 0s - loss: 0.8734 - f2_score: 0.6069\n",
      "Epoch 00006: reducing learning rate to 9.999999310821295e-05.\n",
      "409/409 [==============================] - 6s 15ms/step - loss: 0.8731 - f2_score: 0.6073 - val_loss: 1.1842 - val_f2_score: 0.5233\n",
      "Epoch 7/20\n",
      "409/409 [==============================] - 6s 15ms/step - loss: 0.8721 - f2_score: 0.6099 - val_loss: 1.1836 - val_f2_score: 0.5240\n",
      "Epoch 8/20\n",
      "409/409 [==============================] - 6s 14ms/step - loss: 0.8693 - f2_score: 0.6108 - val_loss: 1.1835 - val_f2_score: 0.5236\n",
      "Epoch 9/20\n",
      "407/409 [============================>.] - ETA: 0s - loss: 0.8682 - f2_score: 0.6098\n",
      "Epoch 00009: reducing learning rate to 9.999999019782991e-06.\n",
      "409/409 [==============================] - 6s 14ms/step - loss: 0.8675 - f2_score: 0.6103 - val_loss: 1.1837 - val_f2_score: 0.5237\n",
      "Epoch 10/20\n",
      "409/409 [==============================] - 6s 14ms/step - loss: 0.8680 - f2_score: 0.6098 - val_loss: 1.1836 - val_f2_score: 0.5237\n",
      "Epoch 11/20\n",
      "409/409 [==============================] - 6s 15ms/step - loss: 0.8704 - f2_score: 0.6110 - val_loss: 1.1836 - val_f2_score: 0.5231\n",
      "Epoch 12/20\n",
      "405/409 [============================>.] - ETA: 0s - loss: 0.8680 - f2_score: 0.6104\n",
      "Epoch 00012: reducing learning rate to 9.99999883788405e-07.\n",
      "409/409 [==============================] - 6s 15ms/step - loss: 0.8676 - f2_score: 0.6106 - val_loss: 1.1835 - val_f2_score: 0.5232\n",
      "Epoch 13/20\n",
      "409/409 [==============================] - 6s 15ms/step - loss: 0.8670 - f2_score: 0.6107 - val_loss: 1.1835 - val_f2_score: 0.5232\n",
      "Epoch 14/20\n",
      "409/409 [==============================] - 6s 15ms/step - loss: 0.8683 - f2_score: 0.6105 - val_loss: 1.1835 - val_f2_score: 0.5232\n",
      "Epoch 15/20\n",
      "408/409 [============================>.] - ETA: 0s - loss: 0.8693 - f2_score: 0.6081\n",
      "Epoch 00015: reducing learning rate to 9.99999883788405e-08.\n",
      "409/409 [==============================] - 6s 15ms/step - loss: 0.8682 - f2_score: 0.6085 - val_loss: 1.1835 - val_f2_score: 0.5231\n",
      "Epoch 00015: early stopping\n"
     ]
    },
    {
     "data": {
      "text/plain": [
       "<keras.callbacks.History at 0x7fbd3d21f668>"
      ]
     },
     "execution_count": 29,
     "metadata": {},
     "output_type": "execute_result"
    }
   ],
   "source": [
    "model.fit_generator(generator=train_generator(),\n",
    "                    steps_per_epoch=np.ceil(float(len(train)) / float(batch_size)),\n",
    "                    epochs=20,\n",
    "                    verbose=1,\n",
    "                    callbacks=callbacks,\n",
    "                    validation_data=valid_generator(),\n",
    "                    validation_steps=np.ceil(float(len(validation)) / float(batch_size)))"
   ]
  },
  {
   "cell_type": "code",
   "execution_count": 30,
   "metadata": {},
   "outputs": [],
   "source": [
    "test_images = os.listdir('input/dataset/test/')"
   ]
  },
  {
   "cell_type": "code",
   "execution_count": 31,
   "metadata": {},
   "outputs": [
    {
     "data": {
      "text/plain": [
       "'n04489695_9899_0.jpg'"
      ]
     },
     "execution_count": 31,
     "metadata": {},
     "output_type": "execute_result"
    }
   ],
   "source": [
    "os.path.basename(test_images[5])"
   ]
  },
  {
   "cell_type": "code",
   "execution_count": 32,
   "metadata": {},
   "outputs": [],
   "source": [
    "model.load_weights('best_weights.hdf5')"
   ]
  },
  {
   "cell_type": "code",
   "execution_count": 33,
   "metadata": {},
   "outputs": [
    {
     "name": "stderr",
     "output_type": "stream",
     "text": [
      "100%|██████████| 21273/21273 [00:26<00:00, 791.88it/s]\n"
     ]
    }
   ],
   "source": [
    "from tqdm import tqdm\n",
    "image_name, category = list(), list()\n",
    "for name in tqdm(test_images):\n",
    "    name = name.split()[0]\n",
    "    with open('input/dataset/test_features/{}.pkl'.format(name), 'rb') as file:\n",
    "        features = pkl.load(file)\n",
    "    \n",
    "    image_name.append(name)\n",
    "    label = np.argmax(model.predict(features))\n",
    "    category.append(label)"
   ]
  },
  {
   "cell_type": "code",
   "execution_count": 34,
   "metadata": {},
   "outputs": [
    {
     "name": "stdout",
     "output_type": "stream",
     "text": [
      "(21273, 2)\n"
     ]
    }
   ],
   "source": [
    "res = pd.DataFrame({'image_name': image_name, 'category': category}, columns=['image_name', 'category'])\n",
    "# res = res.append(res.iloc[:5412, :])\n",
    "print(res.shape)\n",
    "res.to_csv('submission.csv', index=False)"
   ]
  },
  {
   "cell_type": "code",
   "execution_count": 35,
   "metadata": {},
   "outputs": [
    {
     "data": {
      "text/plain": [
       "4     3446\n",
       "3     2738\n",
       "2     2655\n",
       "9     2092\n",
       "1     1944\n",
       "6     1830\n",
       "10    1644\n",
       "12    1634\n",
       "8     1137\n",
       "13     990\n",
       "11     421\n",
       "7      310\n",
       "5      172\n",
       "14     136\n",
       "0      124\n",
       "Name: category, dtype: int64"
      ]
     },
     "execution_count": 35,
     "metadata": {},
     "output_type": "execute_result"
    }
   ],
   "source": [
    "res.category.value_counts()"
   ]
  },
  {
   "cell_type": "code",
   "execution_count": 36,
   "metadata": {},
   "outputs": [
    {
     "data": {
      "text/plain": [
       "[1.1836065587997437, 0.524]"
      ]
     },
     "execution_count": 36,
     "metadata": {},
     "output_type": "execute_result"
    }
   ],
   "source": [
    "model.load_weights('best_weights.hdf5')\n",
    "model.evaluate_generator(generator=valid_generator(), \n",
    "                        steps=np.ceil(float(len(validation)) / float(batch_size)))"
   ]
  },
  {
   "cell_type": "code",
   "execution_count": 37,
   "metadata": {},
   "outputs": [],
   "source": [
    "preds = model.predict_generator(generator=valid_generator(), \n",
    "                               steps=np.ceil(float(len(validation)) / float(batch_size)))"
   ]
  },
  {
   "cell_type": "code",
   "execution_count": 38,
   "metadata": {},
   "outputs": [
    {
     "data": {
      "text/plain": [
       "(10000,)"
      ]
     },
     "execution_count": 38,
     "metadata": {},
     "output_type": "execute_result"
    }
   ],
   "source": [
    "preds = np.argmax(preds, axis=1)\n",
    "preds.shape"
   ]
  },
  {
   "cell_type": "code",
   "execution_count": 39,
   "metadata": {},
   "outputs": [
    {
     "data": {
      "text/plain": [
       "4     1392\n",
       "3     1309\n",
       "2     1252\n",
       "1      996\n",
       "9      863\n",
       "6      825\n",
       "12     824\n",
       "10     748\n",
       "8      606\n",
       "13     438\n",
       "7      206\n",
       "11     204\n",
       "0      134\n",
       "14     106\n",
       "5       97\n",
       "Name: labels, dtype: int64"
      ]
     },
     "execution_count": 39,
     "metadata": {},
     "output_type": "execute_result"
    }
   ],
   "source": [
    "validation['labels'].value_counts()"
   ]
  },
  {
   "cell_type": "code",
   "execution_count": 40,
   "metadata": {},
   "outputs": [
    {
     "data": {
      "text/plain": [
       "4     1581\n",
       "3     1300\n",
       "2     1283\n",
       "9      985\n",
       "1      917\n",
       "6      884\n",
       "12     806\n",
       "10     745\n",
       "8      521\n",
       "13     431\n",
       "11     202\n",
       "7      138\n",
       "5       72\n",
       "14      69\n",
       "0       66\n",
       "Name: preds, dtype: int64"
      ]
     },
     "execution_count": 40,
     "metadata": {},
     "output_type": "execute_result"
    }
   ],
   "source": [
    "pd.DataFrame({'preds': preds})['preds'].value_counts()"
   ]
  },
  {
   "cell_type": "code",
   "execution_count": null,
   "metadata": {},
   "outputs": [],
   "source": []
  }
 ],
 "metadata": {
  "kernelspec": {
   "display_name": "Python 3",
   "language": "python",
   "name": "python3"
  },
  "language_info": {
   "codemirror_mode": {
    "name": "ipython",
    "version": 3
   },
   "file_extension": ".py",
   "mimetype": "text/x-python",
   "name": "python",
   "nbconvert_exporter": "python",
   "pygments_lexer": "ipython3",
   "version": "3.6.2"
  }
 },
 "nbformat": 4,
 "nbformat_minor": 2
}
