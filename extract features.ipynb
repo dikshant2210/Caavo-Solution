{
 "cells": [
  {
   "cell_type": "code",
   "execution_count": 1,
   "metadata": {},
   "outputs": [
    {
     "data": {
      "text/html": [
       "<div>\n",
       "<style scoped>\n",
       "    .dataframe tbody tr th:only-of-type {\n",
       "        vertical-align: middle;\n",
       "    }\n",
       "\n",
       "    .dataframe tbody tr th {\n",
       "        vertical-align: top;\n",
       "    }\n",
       "\n",
       "    .dataframe thead th {\n",
       "        text-align: right;\n",
       "    }\n",
       "</style>\n",
       "<table border=\"1\" class=\"dataframe\">\n",
       "  <thead>\n",
       "    <tr style=\"text-align: right;\">\n",
       "      <th></th>\n",
       "      <th>images</th>\n",
       "      <th>labels</th>\n",
       "    </tr>\n",
       "  </thead>\n",
       "  <tbody>\n",
       "    <tr>\n",
       "      <th>44500</th>\n",
       "      <td>input/dataset/train/9/n04615644_2314_0.jpg</td>\n",
       "      <td>9</td>\n",
       "    </tr>\n",
       "    <tr>\n",
       "      <th>44055</th>\n",
       "      <td>input/dataset/train/9/n04222470_6590_0.jpg</td>\n",
       "      <td>9</td>\n",
       "    </tr>\n",
       "    <tr>\n",
       "      <th>20476</th>\n",
       "      <td>input/dataset/train/4/n03384891_14147_0.jpg</td>\n",
       "      <td>4</td>\n",
       "    </tr>\n",
       "    <tr>\n",
       "      <th>45793</th>\n",
       "      <td>input/dataset/train/6/n03010795_330_0.jpg</td>\n",
       "      <td>6</td>\n",
       "    </tr>\n",
       "    <tr>\n",
       "      <th>29069</th>\n",
       "      <td>input/dataset/train/8/n03013438_19470_0.jpg</td>\n",
       "      <td>8</td>\n",
       "    </tr>\n",
       "  </tbody>\n",
       "</table>\n",
       "</div>"
      ],
      "text/plain": [
       "                                            images  labels\n",
       "44500   input/dataset/train/9/n04615644_2314_0.jpg       9\n",
       "44055   input/dataset/train/9/n04222470_6590_0.jpg       9\n",
       "20476  input/dataset/train/4/n03384891_14147_0.jpg       4\n",
       "45793    input/dataset/train/6/n03010795_330_0.jpg       6\n",
       "29069  input/dataset/train/8/n03013438_19470_0.jpg       8"
      ]
     },
     "execution_count": 1,
     "metadata": {},
     "output_type": "execute_result"
    }
   ],
   "source": [
    "import numpy as np\n",
    "import pandas as pd\n",
    "import glob\n",
    "import os\n",
    "\n",
    "dirs = glob.glob('input/dataset/train/*')\n",
    "images = list()\n",
    "labels = list()\n",
    "for d in dirs:\n",
    "    images += glob.glob(d + '/*')\n",
    "    labels += [int(os.path.basename(d))] * len(glob.glob(d + '/*'))\n",
    "    \n",
    "from sklearn.utils import shuffle\n",
    "df = pd.DataFrame({'images': images, 'labels': labels})\n",
    "df = shuffle(df)\n",
    "df.head()"
   ]
  },
  {
   "cell_type": "code",
   "execution_count": 2,
   "metadata": {},
   "outputs": [
    {
     "data": {
      "text/plain": [
       "(62258, 2)"
      ]
     },
     "execution_count": 2,
     "metadata": {},
     "output_type": "execute_result"
    }
   ],
   "source": [
    "df.shape"
   ]
  },
  {
   "cell_type": "code",
   "execution_count": 3,
   "metadata": {},
   "outputs": [
    {
     "name": "stderr",
     "output_type": "stream",
     "text": [
      "/home/winter/miniconda3/envs/dl/lib/python3.6/site-packages/h5py/__init__.py:36: FutureWarning: Conversion of the second argument of issubdtype from `float` to `np.floating` is deprecated. In future, it will be treated as `np.float64 == np.dtype(float).type`.\n",
      "  from ._conv import register_converters as _register_converters\n",
      "Using TensorFlow backend.\n",
      "/home/winter/miniconda3/envs/dl/lib/python3.6/importlib/_bootstrap.py:205: RuntimeWarning: compiletime version 3.5 of module 'tensorflow.python.framework.fast_tensor_util' does not match runtime version 3.6\n",
      "  return f(*args, **kwds)\n"
     ]
    }
   ],
   "source": [
    "from keras.applications.vgg19 import VGG19\n",
    "from keras.preprocessing import image\n",
    "from keras.applications.vgg16 import preprocess_input\n",
    "from keras.layers import Dense, GlobalAveragePooling2D, BatchNormalization\n",
    "from keras.models import Model\n",
    "from keras.callbacks import EarlyStopping, ReduceLROnPlateau, ModelCheckpoint\n",
    "\n",
    "base_model = VGG19(weights='imagenet', include_top=False)\n",
    "    \n",
    "model = Model(inputs=base_model.input, outputs=base_model.output)"
   ]
  },
  {
   "cell_type": "code",
   "execution_count": 4,
   "metadata": {
    "collapsed": true
   },
   "outputs": [
    {
     "name": "stdout",
     "output_type": "stream",
     "text": [
      "3000\n",
      "6000\n",
      "9000\n",
      "12000\n",
      "15000\n",
      "18000\n",
      "21000\n",
      "24000\n",
      "27000\n",
      "30000\n",
      "33000\n",
      "36000\n",
      "39000\n",
      "42000\n",
      "45000\n",
      "48000\n",
      "51000\n",
      "54000\n",
      "57000\n",
      "60000\n"
     ]
    }
   ],
   "source": [
    "from tqdm import tqdm\n",
    "import pickle as pkl\n",
    "\n",
    "count = 0\n",
    "for img_path, label in zip(df.images, df['labels']):\n",
    "    img = image.load_img(img_path, target_size=(224, 224))\n",
    "    x = image.img_to_array(img)\n",
    "    x = preprocess_input(x)\n",
    "    features = model.predict(np.expand_dims(x, axis=0))\n",
    "    features = np.squeeze(features)\n",
    "\n",
    "    y = np.zeros(15)\n",
    "    y[label] = 1\n",
    "    \n",
    "    name = os.path.basename(img_path).split()[0]\n",
    "    with open('input/dataset/train_features/{}.pkl'.format(name), 'wb') as file:\n",
    "        pkl.dump([features, y], file)\n",
    "        \n",
    "    count += 1\n",
    "    if count % 3000 == 0:\n",
    "        print(count)"
   ]
  },
  {
   "cell_type": "code",
   "execution_count": 5,
   "metadata": {},
   "outputs": [
    {
     "data": {
      "text/plain": [
       "((7, 7, 512), (15,))"
      ]
     },
     "execution_count": 5,
     "metadata": {},
     "output_type": "execute_result"
    }
   ],
   "source": [
    "with open('input/dataset/train_features/{}.pkl'.format(name), 'rb') as file:\n",
    "    ip = pkl.load(file)\n",
    "\n",
    "ip[0].shape, ip[1].shape"
   ]
  },
  {
   "cell_type": "code",
   "execution_count": 6,
   "metadata": {},
   "outputs": [
    {
     "name": "stderr",
     "output_type": "stream",
     "text": [
      "100%|██████████| 21273/21273 [04:20<00:00, 81.82it/s]\n"
     ]
    }
   ],
   "source": [
    "from tqdm import tqdm\n",
    "import pickle as pkl\n",
    "\n",
    "test_images = os.listdir('input/dataset/test/')\n",
    "\n",
    "for img_path in tqdm(test_images):\n",
    "    img_path = os.path.join('input/dataset/test/', img_path)\n",
    "    img = image.load_img(img_path, target_size=(224, 224))\n",
    "    x = image.img_to_array(img)\n",
    "    x = preprocess_input(x)\n",
    "    features = model.predict(np.expand_dims(x, axis=0))\n",
    "    \n",
    "    name = os.path.basename(img_path).split()[0]\n",
    "    with open('input/dataset/test_features/{}.pkl'.format(name), 'wb') as file:\n",
    "        pkl.dump(features, file)"
   ]
  },
  {
   "cell_type": "code",
   "execution_count": null,
   "metadata": {},
   "outputs": [],
   "source": []
  }
 ],
 "metadata": {
  "kernelspec": {
   "display_name": "Python 3",
   "language": "python",
   "name": "python3"
  },
  "language_info": {
   "codemirror_mode": {
    "name": "ipython",
    "version": 3
   },
   "file_extension": ".py",
   "mimetype": "text/x-python",
   "name": "python",
   "nbconvert_exporter": "python",
   "pygments_lexer": "ipython3",
   "version": "3.6.2"
  }
 },
 "nbformat": 4,
 "nbformat_minor": 2
}
